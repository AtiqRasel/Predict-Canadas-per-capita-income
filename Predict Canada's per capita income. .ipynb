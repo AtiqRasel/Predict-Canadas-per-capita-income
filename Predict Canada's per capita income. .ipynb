{
 "cells": [
  {
   "cell_type": "code",
   "execution_count": 19,
   "metadata": {},
   "outputs": [],
   "source": [
    "import pandas as pd\n",
    "import numpy as np\n",
    "import matplotlib.pyplot as plt\n",
    "from sklearn import linear_model"
   ]
  },
  {
   "cell_type": "code",
   "execution_count": 20,
   "metadata": {},
   "outputs": [
    {
     "data": {
      "text/html": [
       "<div>\n",
       "<style scoped>\n",
       "    .dataframe tbody tr th:only-of-type {\n",
       "        vertical-align: middle;\n",
       "    }\n",
       "\n",
       "    .dataframe tbody tr th {\n",
       "        vertical-align: top;\n",
       "    }\n",
       "\n",
       "    .dataframe thead th {\n",
       "        text-align: right;\n",
       "    }\n",
       "</style>\n",
       "<table border=\"1\" class=\"dataframe\">\n",
       "  <thead>\n",
       "    <tr style=\"text-align: right;\">\n",
       "      <th></th>\n",
       "      <th>year</th>\n",
       "      <th>perCapitaIncomeUSD</th>\n",
       "    </tr>\n",
       "  </thead>\n",
       "  <tbody>\n",
       "    <tr>\n",
       "      <th>0</th>\n",
       "      <td>1970</td>\n",
       "      <td>3399.299037</td>\n",
       "    </tr>\n",
       "    <tr>\n",
       "      <th>1</th>\n",
       "      <td>1971</td>\n",
       "      <td>3768.297935</td>\n",
       "    </tr>\n",
       "    <tr>\n",
       "      <th>2</th>\n",
       "      <td>1972</td>\n",
       "      <td>4251.175484</td>\n",
       "    </tr>\n",
       "    <tr>\n",
       "      <th>3</th>\n",
       "      <td>1973</td>\n",
       "      <td>4804.463248</td>\n",
       "    </tr>\n",
       "    <tr>\n",
       "      <th>4</th>\n",
       "      <td>1974</td>\n",
       "      <td>5576.514583</td>\n",
       "    </tr>\n",
       "    <tr>\n",
       "      <th>5</th>\n",
       "      <td>1975</td>\n",
       "      <td>5998.144346</td>\n",
       "    </tr>\n",
       "    <tr>\n",
       "      <th>6</th>\n",
       "      <td>1976</td>\n",
       "      <td>7062.131392</td>\n",
       "    </tr>\n",
       "    <tr>\n",
       "      <th>7</th>\n",
       "      <td>1977</td>\n",
       "      <td>7100.126170</td>\n",
       "    </tr>\n",
       "    <tr>\n",
       "      <th>8</th>\n",
       "      <td>1978</td>\n",
       "      <td>7247.967035</td>\n",
       "    </tr>\n",
       "    <tr>\n",
       "      <th>9</th>\n",
       "      <td>1979</td>\n",
       "      <td>7602.912681</td>\n",
       "    </tr>\n",
       "    <tr>\n",
       "      <th>10</th>\n",
       "      <td>1980</td>\n",
       "      <td>8355.968120</td>\n",
       "    </tr>\n",
       "    <tr>\n",
       "      <th>11</th>\n",
       "      <td>1981</td>\n",
       "      <td>9434.390652</td>\n",
       "    </tr>\n",
       "    <tr>\n",
       "      <th>12</th>\n",
       "      <td>1982</td>\n",
       "      <td>9619.438377</td>\n",
       "    </tr>\n",
       "    <tr>\n",
       "      <th>13</th>\n",
       "      <td>1983</td>\n",
       "      <td>10416.536590</td>\n",
       "    </tr>\n",
       "    <tr>\n",
       "      <th>14</th>\n",
       "      <td>1984</td>\n",
       "      <td>10790.328720</td>\n",
       "    </tr>\n",
       "    <tr>\n",
       "      <th>15</th>\n",
       "      <td>1985</td>\n",
       "      <td>11018.955850</td>\n",
       "    </tr>\n",
       "    <tr>\n",
       "      <th>16</th>\n",
       "      <td>1986</td>\n",
       "      <td>11482.891530</td>\n",
       "    </tr>\n",
       "    <tr>\n",
       "      <th>17</th>\n",
       "      <td>1987</td>\n",
       "      <td>12974.806620</td>\n",
       "    </tr>\n",
       "    <tr>\n",
       "      <th>18</th>\n",
       "      <td>1988</td>\n",
       "      <td>15080.283450</td>\n",
       "    </tr>\n",
       "    <tr>\n",
       "      <th>19</th>\n",
       "      <td>1989</td>\n",
       "      <td>16426.725480</td>\n",
       "    </tr>\n",
       "    <tr>\n",
       "      <th>20</th>\n",
       "      <td>1990</td>\n",
       "      <td>16838.673200</td>\n",
       "    </tr>\n",
       "    <tr>\n",
       "      <th>21</th>\n",
       "      <td>1991</td>\n",
       "      <td>17266.097690</td>\n",
       "    </tr>\n",
       "    <tr>\n",
       "      <th>22</th>\n",
       "      <td>1992</td>\n",
       "      <td>16412.083090</td>\n",
       "    </tr>\n",
       "    <tr>\n",
       "      <th>23</th>\n",
       "      <td>1993</td>\n",
       "      <td>15875.586730</td>\n",
       "    </tr>\n",
       "    <tr>\n",
       "      <th>24</th>\n",
       "      <td>1994</td>\n",
       "      <td>15755.820270</td>\n",
       "    </tr>\n",
       "    <tr>\n",
       "      <th>25</th>\n",
       "      <td>1995</td>\n",
       "      <td>16369.317250</td>\n",
       "    </tr>\n",
       "    <tr>\n",
       "      <th>26</th>\n",
       "      <td>1996</td>\n",
       "      <td>16699.826680</td>\n",
       "    </tr>\n",
       "    <tr>\n",
       "      <th>27</th>\n",
       "      <td>1997</td>\n",
       "      <td>17310.757750</td>\n",
       "    </tr>\n",
       "    <tr>\n",
       "      <th>28</th>\n",
       "      <td>1998</td>\n",
       "      <td>16622.671870</td>\n",
       "    </tr>\n",
       "    <tr>\n",
       "      <th>29</th>\n",
       "      <td>1999</td>\n",
       "      <td>17581.024140</td>\n",
       "    </tr>\n",
       "    <tr>\n",
       "      <th>30</th>\n",
       "      <td>2000</td>\n",
       "      <td>18987.382410</td>\n",
       "    </tr>\n",
       "    <tr>\n",
       "      <th>31</th>\n",
       "      <td>2001</td>\n",
       "      <td>18601.397240</td>\n",
       "    </tr>\n",
       "    <tr>\n",
       "      <th>32</th>\n",
       "      <td>2002</td>\n",
       "      <td>19232.175560</td>\n",
       "    </tr>\n",
       "    <tr>\n",
       "      <th>33</th>\n",
       "      <td>2003</td>\n",
       "      <td>22739.426280</td>\n",
       "    </tr>\n",
       "    <tr>\n",
       "      <th>34</th>\n",
       "      <td>2004</td>\n",
       "      <td>25719.147150</td>\n",
       "    </tr>\n",
       "    <tr>\n",
       "      <th>35</th>\n",
       "      <td>2005</td>\n",
       "      <td>29198.055690</td>\n",
       "    </tr>\n",
       "    <tr>\n",
       "      <th>36</th>\n",
       "      <td>2006</td>\n",
       "      <td>32738.262900</td>\n",
       "    </tr>\n",
       "    <tr>\n",
       "      <th>37</th>\n",
       "      <td>2007</td>\n",
       "      <td>36144.481220</td>\n",
       "    </tr>\n",
       "    <tr>\n",
       "      <th>38</th>\n",
       "      <td>2008</td>\n",
       "      <td>37446.486090</td>\n",
       "    </tr>\n",
       "    <tr>\n",
       "      <th>39</th>\n",
       "      <td>2009</td>\n",
       "      <td>32755.176820</td>\n",
       "    </tr>\n",
       "    <tr>\n",
       "      <th>40</th>\n",
       "      <td>2010</td>\n",
       "      <td>38420.522890</td>\n",
       "    </tr>\n",
       "    <tr>\n",
       "      <th>41</th>\n",
       "      <td>2011</td>\n",
       "      <td>42334.711210</td>\n",
       "    </tr>\n",
       "    <tr>\n",
       "      <th>42</th>\n",
       "      <td>2012</td>\n",
       "      <td>42665.255970</td>\n",
       "    </tr>\n",
       "    <tr>\n",
       "      <th>43</th>\n",
       "      <td>2013</td>\n",
       "      <td>42676.468370</td>\n",
       "    </tr>\n",
       "    <tr>\n",
       "      <th>44</th>\n",
       "      <td>2014</td>\n",
       "      <td>41039.893600</td>\n",
       "    </tr>\n",
       "    <tr>\n",
       "      <th>45</th>\n",
       "      <td>2015</td>\n",
       "      <td>35175.188980</td>\n",
       "    </tr>\n",
       "    <tr>\n",
       "      <th>46</th>\n",
       "      <td>2016</td>\n",
       "      <td>34229.193630</td>\n",
       "    </tr>\n",
       "  </tbody>\n",
       "</table>\n",
       "</div>"
      ],
      "text/plain": [
       "    year  perCapitaIncomeUSD\n",
       "0   1970         3399.299037\n",
       "1   1971         3768.297935\n",
       "2   1972         4251.175484\n",
       "3   1973         4804.463248\n",
       "4   1974         5576.514583\n",
       "5   1975         5998.144346\n",
       "6   1976         7062.131392\n",
       "7   1977         7100.126170\n",
       "8   1978         7247.967035\n",
       "9   1979         7602.912681\n",
       "10  1980         8355.968120\n",
       "11  1981         9434.390652\n",
       "12  1982         9619.438377\n",
       "13  1983        10416.536590\n",
       "14  1984        10790.328720\n",
       "15  1985        11018.955850\n",
       "16  1986        11482.891530\n",
       "17  1987        12974.806620\n",
       "18  1988        15080.283450\n",
       "19  1989        16426.725480\n",
       "20  1990        16838.673200\n",
       "21  1991        17266.097690\n",
       "22  1992        16412.083090\n",
       "23  1993        15875.586730\n",
       "24  1994        15755.820270\n",
       "25  1995        16369.317250\n",
       "26  1996        16699.826680\n",
       "27  1997        17310.757750\n",
       "28  1998        16622.671870\n",
       "29  1999        17581.024140\n",
       "30  2000        18987.382410\n",
       "31  2001        18601.397240\n",
       "32  2002        19232.175560\n",
       "33  2003        22739.426280\n",
       "34  2004        25719.147150\n",
       "35  2005        29198.055690\n",
       "36  2006        32738.262900\n",
       "37  2007        36144.481220\n",
       "38  2008        37446.486090\n",
       "39  2009        32755.176820\n",
       "40  2010        38420.522890\n",
       "41  2011        42334.711210\n",
       "42  2012        42665.255970\n",
       "43  2013        42676.468370\n",
       "44  2014        41039.893600\n",
       "45  2015        35175.188980\n",
       "46  2016        34229.193630"
      ]
     },
     "execution_count": 20,
     "metadata": {},
     "output_type": "execute_result"
    }
   ],
   "source": [
    "data=pd.read_csv('canada_per_capita_income.csv')\n",
    "data"
   ]
  },
  {
   "cell_type": "code",
   "execution_count": 21,
   "metadata": {},
   "outputs": [
    {
     "data": {
      "text/plain": [
       "LinearRegression()"
      ]
     },
     "execution_count": 21,
     "metadata": {},
     "output_type": "execute_result"
    }
   ],
   "source": [
    "reg=linear_model.LinearRegression()\n",
    "reg.fit(data[['year']], data.perCapitaIncomeUSD)"
   ]
  },
  {
   "cell_type": "code",
   "execution_count": 22,
   "metadata": {},
   "outputs": [
    {
     "data": {
      "text/plain": [
       "array([45431.01947053])"
      ]
     },
     "execution_count": 22,
     "metadata": {},
     "output_type": "execute_result"
    }
   ],
   "source": [
    "reg.predict([[2025]])"
   ]
  },
  {
   "cell_type": "code",
   "execution_count": 23,
   "metadata": {},
   "outputs": [],
   "source": [
    "dd=pd.read_csv('year.csv')"
   ]
  },
  {
   "cell_type": "code",
   "execution_count": 24,
   "metadata": {},
   "outputs": [
    {
     "data": {
      "text/plain": [
       "array([ 40460.22901919,  42117.15916964,  43774.08932009,  45431.01947053,\n",
       "        47087.94962098,  48744.87977142,  50401.80992187,  52058.74007231,\n",
       "        53715.67022276,  55372.6003732 ,  57029.53052365,  58686.46067409,\n",
       "        60343.39082454,  62000.32097499,  63657.25112543,  65314.18127588,\n",
       "        66971.11142632,  68628.04157677,  70284.97172721,  71941.90187766,\n",
       "        73598.8320281 ,  75255.76217855,  76912.69232899,  78569.62247944,\n",
       "        80226.55262989,  81883.48278033,  83540.41293078,  85197.34308122,\n",
       "        86854.27323167,  88511.20338211,  90168.13353256,  91825.063683  ,\n",
       "        93481.99383345,  95138.92398389,  96795.85413434,  98452.78428478,\n",
       "       100109.71443523, 101766.64458568, 103423.57473612, 105080.50488657,\n",
       "       106737.43503701, 108394.36518746, 110051.2953379 , 111708.22548835,\n",
       "       113365.15563879, 115022.08578924, 116679.01593968, 118335.94609013,\n",
       "       119992.87624057, 121649.80639102, 123306.73654147, 124963.66669191,\n",
       "       126620.59684236, 128277.5269928 , 129934.45714325, 131591.38729369,\n",
       "       133248.31744414, 134905.24759458, 136562.17774503, 138219.10789547,\n",
       "       139876.03804592, 141532.96819637, 143189.89834681, 144846.82849726,\n",
       "       146503.7586477 , 148160.68879815, 149817.61894859, 151474.54909904,\n",
       "       153131.47924948, 154788.40939993, 156445.33955037, 158102.26970082,\n",
       "       159759.19985127, 161416.13000171, 163073.06015216, 164729.9903026 ,\n",
       "       166386.92045305, 168043.85060349, 169700.78075394, 171357.71090438,\n",
       "       173014.64105483, 174671.57120527, 176328.50135572, 177985.43150616,\n",
       "       179642.36165661, 181299.29180706, 182956.2219575 , 184613.15210795,\n",
       "       186270.08225839, 187927.01240884, 189583.94255928, 191240.87270973,\n",
       "       192897.80286017, 194554.73301062, 196211.66316106, 197868.59331151,\n",
       "       199525.52346196, 201182.4536124 , 202839.38376285, 204496.31391329,\n",
       "       206153.24406374, 207810.17421418, 209467.10436463, 211124.03451507,\n",
       "       212780.96466552, 214437.89481596, 216094.82496641, 217751.75511685,\n",
       "       219408.6852673 , 221065.61541775, 222722.54556819, 224379.47571864,\n",
       "       226036.40586908, 227693.33601953, 229350.26616997, 231007.19632042,\n",
       "       232664.12647086, 234321.05662131, 235977.98677175, 237634.9169222 ,\n",
       "       239291.84707265, 240948.77722309, 242605.70737354, 244262.63752398,\n",
       "       245919.56767443, 247576.49782487, 249233.42797532, 250890.35812576,\n",
       "       252547.28827621, 254204.21842665, 255861.1485771 , 257518.07872754,\n",
       "       259175.00887799, 260831.93902844, 262488.86917888, 264145.79932933,\n",
       "       265802.72947977, 267459.65963022, 269116.58978066, 270773.51993111,\n",
       "       272430.45008155, 274087.380232  , 275744.31038244, 277401.24053289,\n",
       "       279058.17068334, 280715.10083378, 282372.03098423, 284028.96113467,\n",
       "       285685.89128512, 287342.82143556, 288999.75158601, 290656.68173645,\n",
       "       292313.6118869 , 293970.54203734, 295627.47218779, 297284.40233824,\n",
       "       298941.33248868, 300598.26263913, 302255.19278957, 303912.12294002,\n",
       "       305569.05309046, 307225.98324091, 308882.91339135, 310539.8435418 ,\n",
       "       312196.77369224, 313853.70384269, 315510.63399313, 317167.56414358,\n",
       "       318824.49429403, 320481.42444447, 322138.35459492, 323795.28474536,\n",
       "       325452.21489581, 327109.14504625, 328766.0751967 , 330423.00534714,\n",
       "       332079.93549759, 333736.86564803, 335393.79579848, 337050.72594893,\n",
       "       338707.65609937, 340364.58624982, 342021.51640026, 343678.44655071,\n",
       "       345335.37670115, 346992.3068516 , 348649.23700204, 350306.16715249,\n",
       "       351963.09730293, 353620.02745338, 355276.95760382, 356933.88775427,\n",
       "       358590.81790472, 360247.74805516, 361904.67820561, 363561.60835605,\n",
       "       365218.5385065 , 366875.46865694, 368532.39880739, 370189.32895783,\n",
       "       371846.25910828, 373503.18925872, 375160.11940917, 376817.04955962,\n",
       "       378473.97971006, 380130.90986051, 381787.84001095, 383444.7701614 ,\n",
       "       385101.70031184, 386758.63046229, 388415.56061273, 390072.49076318,\n",
       "       391729.42091362, 393386.35106407, 395043.28121451, 396700.21136496,\n",
       "       398357.14151541, 400014.07166585, 401671.0018163 , 403327.93196674,\n",
       "       404984.86211719, 406641.79226763, 408298.72241808, 409955.65256852,\n",
       "       411612.58271897, 413269.51286941, 414926.44301986, 416583.37317031,\n",
       "       418240.30332075, 419897.2334712 , 421554.16362164, 423211.09377209,\n",
       "       424868.02392253, 426524.95407298, 428181.88422342, 429838.81437387,\n",
       "       431495.74452431, 433152.67467476, 434809.6048252 , 436466.53497565,\n",
       "       438123.4651261 , 439780.39527654, 441437.32542699, 443094.25557743,\n",
       "       444751.18572788, 446408.11587832, 448065.04602877, 449721.97617921,\n",
       "       451378.90632966, 453035.8364801 , 454692.76663055, 456349.696781  ,\n",
       "       458006.62693144, 459663.55708189, 461320.48723233, 462977.41738278,\n",
       "       464634.34753322, 466291.27768367, 467948.20783411, 469605.13798456,\n",
       "       471262.068135  , 472918.99828545, 474575.92843589, 476232.85858634,\n",
       "       477889.78873679, 479546.71888723, 481203.64903768, 482860.57918812,\n",
       "       484517.50933857, 486174.43948901, 487831.36963946, 489488.2997899 ,\n",
       "       491145.22994035])"
      ]
     },
     "execution_count": 24,
     "metadata": {},
     "output_type": "execute_result"
    }
   ],
   "source": [
    "reg.predict(dd[['year']])"
   ]
  },
  {
   "cell_type": "code",
   "execution_count": 25,
   "metadata": {},
   "outputs": [
    {
     "data": {
      "text/plain": [
       "[<matplotlib.lines.Line2D at 0x7f0b41a6db90>]"
      ]
     },
     "execution_count": 25,
     "metadata": {},
     "output_type": "execute_result"
    },
    {
     "data": {
      "image/png": "[encoded data removed]",
      "text/plain": [
       "<Figure size 432x288 with 1 Axes>"
      ]
     },
     "metadata": {
      "needs_background": "light"
     },
     "output_type": "display_data"
    }
   ],
   "source": [
    "plt.xlabel('Year')\n",
    "plt.ylabel('Income')\n",
    "plt.scatter(data.year, data.perCapitaIncomeUSD, color='red', marker='+')\n",
    "plt.plot(data.year, reg.predict(data[['year']]), color='blue')"
   ]
  },
  {
   "cell_type": "code",
   "execution_count": 26,
   "metadata": {},
   "outputs": [],
   "source": [
    "bb=pd.read_csv('year.csv')\n",
    "ypr=reg.predict(bb[['year']])"
   ]
  },
  {
   "cell_type": "code",
   "execution_count": 27,
   "metadata": {},
   "outputs": [],
   "source": [
    "bb['prediction']=ypr\n",
    "bb.to_csv('canada_per_capita_income_prediction.csv', index=False)"
   ]
  },
  {
   "cell_type": "code",
   "execution_count": 28,
   "metadata": {},
   "outputs": [
    {
     "data": {
      "text/plain": [
       "array([828.46507522])"
      ]
     },
     "execution_count": 28,
     "metadata": {},
     "output_type": "execute_result"
    }
   ],
   "source": [
    "reg.coef_\n"
   ]
  },
  {
   "cell_type": "code",
   "execution_count": 29,
   "metadata": {},
   "outputs": [
    {
     "data": {
      "text/plain": [
       "-1632210.7578554575"
      ]
     },
     "execution_count": 29,
     "metadata": {},
     "output_type": "execute_result"
    }
   ],
   "source": [
    "reg.intercept_"
   ]
  },
  {
   "cell_type": "code",
   "execution_count": null,
   "metadata": {},
   "outputs": [],
   "source": []
  }
 ],
 "metadata": {
  "kernelspec": {
   "display_name": "Python 3",
   "language": "python",
   "name": "python3"
  },
  "language_info": {
   "codemirror_mode": {
    "name": "ipython",
    "version": 3
   },
   "file_extension": ".py",
   "mimetype": "text/x-python",
   "name": "python",
   "nbconvert_exporter": "python",
   "pygments_lexer": "ipython3",
   "version": "3.7.4"
  }
 },
 "nbformat": 4,
 "nbformat_minor": 2
}
